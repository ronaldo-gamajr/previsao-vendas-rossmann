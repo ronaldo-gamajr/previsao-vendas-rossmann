{
 "cells": [
  {
   "cell_type": "markdown",
   "metadata": {},
   "source": [
    "# Etapas do Projeto de Ciência de Dados\n",
    "\n",
    "## Passo 1: definição do problema de negócios\n",
    "## Passo 2: definição da baseline\n",
    "## Passo 3: importar a base de dados\n",
    "## Passo 4: Limpeza / Tratamento\n",
    "    - Coluna vazia\n",
    "    - Quantidade de NA\n",
    "    - Duplicados\n",
    "    - Tipos de dados\n",
    "    - Outliers\n",
    "## Passo 5: EDA \n",
    "    - Univariada\n",
    "        - Validação de hipóteses de negócio\n",
    "        - Caracteristica x Variavel Resposta\n",
    "    - Bivariada\n",
    "        - Caracteristica x Caracteristica\n",
    "    - Multivariada\n",
    "        - Correlação multiplas colunas\n",
    "## Passo 6: Preparação dos dados\n",
    "    - Feature Engineering\n",
    "    - Encoding\n",
    "    - Normalização\n",
    "    - Padronização\n",
    "    - Rescala\n",
    "    - Feature Selection\n",
    "## Passo 7: Treinamento dos algoritmos\n",
    "    - Modelos lineares\n",
    "    - Modelos não-lineares\n",
    "## Passo 8: Performance\n",
    "    - Métricas importantes\n",
    "## Passo 9: Conversão de performance em resultado de negócio\n",
    "    - Conversão de performance para negócio\n",
    "## Passo 10: Publicação do modelo\n",
    "    - Classe de tratamento\n",
    "    - Serialização do modelo (pikle)\n",
    "## Passo 11: Storytelling\n",
    "    - Apresentação"
   ]
  },
  {
   "cell_type": "markdown",
   "metadata": {},
   "source": []
  }
 ],
 "metadata": {
  "language_info": {
   "name": "python"
  }
 },
 "nbformat": 4,
 "nbformat_minor": 2
}
